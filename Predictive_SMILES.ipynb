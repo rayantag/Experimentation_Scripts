{
  "cells": [
    {
      "cell_type": "markdown",
      "source": [
        "### PREDICTIVE SMILES TEXT GENERATOR"
      ],
      "metadata": {
        "id": "q_q4qfYRC9zF"
      }
    },
    {
      "cell_type": "code",
      "source": [
        "# Imports (a little messy right now)"
      ],
      "metadata": {
        "id": "w0cMK-PqCkN2"
      },
      "execution_count": null,
      "outputs": []
    },
    {
      "cell_type": "code",
      "execution_count": 1,
      "metadata": {
        "id": "OJudG-2wa1TD"
      },
      "outputs": [],
      "source": [
        "import numpy as np\n",
        "import pandas as pd\n",
        "import matplotlib.pyplot as plt\n",
        "from tensorflow.keras.preprocessing.sequence import pad_sequences\n",
        "import tensorflow as tf\n",
        "%matplotlib inline"
      ]
    },
    {
      "cell_type": "code",
      "source": [
        "import csv\n",
        "import nltk\n",
        "import string\n",
        "from google.colab import drive\n",
        "from keras import backend as K\n",
        "from keras.layers import Embedding\n",
        "import tensorflow as tf\n",
        "from tensorflow.keras.preprocessing.sequence import pad_sequences\n",
        "from tensorflow.keras.layers import Embedding, LSTM, Dense, Bidirectional, Dropout\n",
        "from tensorflow.keras.preprocessing.text import Tokenizer\n",
        "from tensorflow.keras.models import Sequential\n",
        "from tensorflow.keras.optimizers import Adam\n",
        "import torch\n",
        "import torch.nn as nn\n",
        "import torch.optim as optim\n",
        "from torch.utils.data import Dataset, DataLoader\n",
        "from rdkit import RDLogger\n",
        "from queue import PriorityQueue\n",
        "import queue"
      ],
      "metadata": {
        "id": "cl_mGj4-GkDa"
      },
      "execution_count": 2,
      "outputs": []
    },
    {
      "cell_type": "code",
      "execution_count": 3,
      "metadata": {
        "id": "fRWwQOfea1TF",
        "colab": {
          "base_uri": "https://localhost:8080/"
        },
        "outputId": "015d2cf6-c109-4b07-8dfb-7fa32322ea75"
      },
      "outputs": [
        {
          "output_type": "stream",
          "name": "stdout",
          "text": [
            "Looking in indexes: https://pypi.org/simple, https://us-python.pkg.dev/colab-wheels/public/simple/\n",
            "Collecting rdkit\n",
            "  Downloading rdkit-2022.9.5-cp39-cp39-manylinux_2_17_x86_64.manylinux2014_x86_64.whl (29.4 MB)\n",
            "\u001b[2K     \u001b[90m━━━━━━━━━━━━━━━━━━━━━━━━━━━━━━━━━━━━━━━━\u001b[0m \u001b[32m29.4/29.4 MB\u001b[0m \u001b[31m54.6 MB/s\u001b[0m eta \u001b[36m0:00:00\u001b[0m\n",
            "\u001b[?25hRequirement already satisfied: numpy in /usr/local/lib/python3.9/dist-packages (from rdkit) (1.22.4)\n",
            "Requirement already satisfied: Pillow in /usr/local/lib/python3.9/dist-packages (from rdkit) (8.4.0)\n",
            "Installing collected packages: rdkit\n",
            "Successfully installed rdkit-2022.9.5\n"
          ]
        }
      ],
      "source": [
        "!pip install rdkit"
      ]
    },
    {
      "cell_type": "code",
      "execution_count": 4,
      "metadata": {
        "id": "7HIdzOdMa1TF"
      },
      "outputs": [],
      "source": [
        "from rdkit import Chem\n",
        "from rdkit.Chem import Descriptors\n",
        "from rdkit.Chem import AllChem\n",
        "from rdkit.Chem.Draw import IPythonConsole # may be needed for viewing of molecules in notebook"
      ]
    },
    {
      "cell_type": "markdown",
      "metadata": {
        "id": "YIpp5zJYa1TN"
      },
      "source": [
        "<p>You start writing an email. You are tired of coming up with original phrases, so you begin:</p>\n",
        "<p><code>I hope thi</code> <em>email finds you well</em></p>\n",
        "<p>And gmail has predicted the exact phrase you were going to write... Predictive text is everywhere these days in emails, texts, even emojis in instant messaging systems.</p>\n",
        "<p>Currently, every chemist \"types\" molecules by using drawing software, then coverts it to SMILES. But what if we were to reverse this process and have people type in SMILES and predict the molecules they were thinking of. We could create predictive text for the chemical keyboard!</p>"
      ]
    },
    {
      "cell_type": "code",
      "execution_count": 78,
      "metadata": {
        "colab": {
          "base_uri": "https://localhost:8080/",
          "height": 167
        },
        "id": "c8LPEd4Oa1TO",
        "outputId": "a95cf3f6-6a6b-48c1-ac87-f598a79a5caf"
      },
      "outputs": [
        {
          "output_type": "execute_result",
          "data": {
            "text/plain": [
              "<rdkit.Chem.rdchem.Mol at 0x7fb28f416430>"
            ],
            "image/png": "[encoded data removed]"
          },
          "metadata": {},
          "execution_count": 78
        }
      ],
      "source": [
        "valid_smiles = 'OCCNC(c1c(n(c2c(cccc2)[n+]1=O)[O-])C)=O'\n",
        "mol = Chem.MolFromSmiles(valid_smiles)\n",
        "mol"
      ]
    },
    {
      "cell_type": "code",
      "execution_count": null,
      "metadata": {
        "id": "-h5i5hQ4a1TO",
        "outputId": "c0615de0-a881-4baf-f680-85e6ef859dbc",
        "colab": {
          "base_uri": "https://localhost:8080/",
          "height": 37
        }
      },
      "outputs": [
        {
          "output_type": "execute_result",
          "data": {
            "text/plain": [
              "'Cc1c(C(=O)NCCO)[n+](=O)c2ccccc2n1[O-]'"
            ],
            "application/vnd.google.colaboratory.intrinsic+json": {
              "type": "string"
            }
          },
          "metadata": {},
          "execution_count": 6
        }
      ],
      "source": [
        "# we can get the canonical smiles like so\n",
        "canonical_smiles = Chem.MolToSmiles(Chem.MolFromSmiles(valid_smiles))\n",
        "canonical_smiles"
      ]
    },
    {
      "cell_type": "code",
      "execution_count": null,
      "metadata": {
        "id": "DGuS6pCLa1TO",
        "outputId": "8920e160-0ec9-4c8d-8885-719d5a070590",
        "colab": {
          "base_uri": "https://localhost:8080/",
          "height": 167
        }
      },
      "outputs": [
        {
          "output_type": "execute_result",
          "data": {
            "text/plain": [
              "<rdkit.Chem.rdchem.Mol at 0x7f21737bd350>"
            ],
            "image/png": "[encoded data removed]"
          },
          "metadata": {},
          "execution_count": 7
        }
      ],
      "source": [
        "# and it encodes the same molecule\n",
        "mol2 = Chem.MolFromSmiles(canonical_smiles)\n",
        "mol2"
      ]
    },
    {
      "cell_type": "markdown",
      "metadata": {
        "id": "KKLxzMj_a1TO"
      },
      "source": [
        "<p>Which is the same as the earlier molecule (though it is drawn a bit differently)</p>\n",
        "<p>The goal here is for a user to start typing, then you should predict the next letter of the SMILES string, just like you might predict the next word of text in a classical NLP task. This by itself is not too crazy. But what you should also do is predict the smallest possible molecule it could be.</p>\n",
        "<p>Let's say that I have so far typed</p>\n",
        "<p><code>CC(</code></p>\n",
        "<p>Then the following SMILES are all valid:</p>\n",
        "<ul>\n",
        "<li><code>CC(C)</code></li>\n",
        "<li><code>CC(O)</code></li>\n",
        "<li><code>CC(C)C</code></li>\n",
        "<li><code>CC(C)O</code></li>\n",
        "<li><code>CC(=O)</code></li>\n",
        "<li><code>CC(C)CC</code></li>\n",
        "</ul>\n",
        "<p>and could represent the molecule I was thinking of with reasonable probability. Essentially, what I want is a feature that looks for molecules that are \"likely to be\" the molecule I am hoping to eventually type and are closeby my currently typed string. Obviously, if the ultimate string I am thinking of is <code>CC(N)C(=O)COCN(C)(CNC)</code>, then that is impossible to predict from <code>CC(</code>. However, it is still helpful if at every step the nearby molecules are predicted. </p>"
      ]
    },
    {
      "cell_type": "code",
      "execution_count": null,
      "metadata": {
        "id": "3LmVFw1pa1TP"
      },
      "outputs": [],
      "source": [
        "def smi_tokenizer(smi):\n",
        "    \"\"\"\n",
        "    Tokenize a SMILES molecule or reaction\n",
        "    \"\"\"\n",
        "    import re\n",
        "    pattern =  \"(\\[[^\\]]+]|Br?|Cl?|N|O|S|P|F|I|b|c|n|o|s|p|\\(|\\)|\\.|=|#|-|\\+|\\\\\\\\|\\/|:|~|@|\\?|>|\\*|\\$|\\%[0-9]{2}|[0-9])\"\n",
        "    regex = re.compile(pattern)\n",
        "    tokens = [token for token in regex.findall(smi)]\n",
        "    assert smi == ''.join(tokens)\n",
        "    return ' '.join(tokens)"
      ]
    },
    {
      "cell_type": "code",
      "execution_count": null,
      "metadata": {
        "id": "zQBsYjola1TP",
        "outputId": "1093a5a6-e66d-4530-a8aa-92d3c2763167",
        "colab": {
          "base_uri": "https://localhost:8080/",
          "height": 37
        }
      },
      "outputs": [
        {
          "output_type": "execute_result",
          "data": {
            "text/plain": [
              "'O C C N C ( c 1 c ( n ( c 2 c ( c c c c 2 ) [n+] 1 = O ) [O-] ) C ) = O'"
            ],
            "application/vnd.google.colaboratory.intrinsic+json": {
              "type": "string"
            }
          },
          "metadata": {},
          "execution_count": 11
        }
      ],
      "source": [
        "smi_tokenizer('OCCNC(c1c(n(c2c(cccc2)[n+]1=O)[O-])C)=O')"
      ]
    },
    {
      "cell_type": "code",
      "execution_count": null,
      "metadata": {
        "id": "XBecDbHUa1TP",
        "outputId": "1c68bc9a-c726-4e8c-ad91-3fcca80ffbe6",
        "colab": {
          "base_uri": "https://localhost:8080/",
          "height": 37
        }
      },
      "outputs": [
        {
          "output_type": "execute_result",
          "data": {
            "text/plain": [
              "'C C c 1 c c c'"
            ],
            "application/vnd.google.colaboratory.intrinsic+json": {
              "type": "string"
            }
          },
          "metadata": {},
          "execution_count": 12
        }
      ],
      "source": [
        "smi_tokenizer('CCc1ccc')"
      ]
    },
    {
      "cell_type": "code",
      "source": [
        "df = pd.read_csv('SMILES_Keyboard.csv')\n",
        "df = df.loc[df['SMILES'].str.len()<50][['SMILES', 'NAME']].reset_index(drop=True)\n",
        "df.head()"
      ],
      "metadata": {
        "colab": {
          "base_uri": "https://localhost:8080/",
          "height": 204
        },
        "id": "nUmtv4_iBl1L",
        "outputId": "e683cf45-e8b8-48fd-e1b6-f610d4853e7e"
      },
      "execution_count": 6,
      "outputs": [
        {
          "output_type": "execute_result",
          "data": {
            "text/plain": [
              "                                             SMILES          NAME\n",
              "0      Cc1cc(-n2ncc(=O)[nH]c2=O)ccc1C(=O)c1ccccc1Cl    CHEMBL6329\n",
              "1   Cc1cc(-n2ncc(=O)[nH]c2=O)ccc1C(=O)c1ccc(C#N)cc1    CHEMBL6328\n",
              "2  Cc1cc(-n2ncc(=O)[nH]c2=O)cc(C)c1C(O)c1ccc(Cl)cc1  CHEMBL265667\n",
              "3      Cc1ccc(C(=O)c2ccc(-n3ncc(=O)[nH]c3=O)cc2)cc1    CHEMBL6362\n",
              "4    Cc1cc(-n2ncc(=O)[nH]c2=O)ccc1C(=O)c1ccc(Cl)cc1  CHEMBL267864"
            ],
            "text/html": [
              "\n",
              "  <div id=\"df-8aa8fcf7-9413-4957-9393-0550e76a85c4\">\n",
              "    <div class=\"colab-df-container\">\n",
              "      <div>\n",
              "<style scoped>\n",
              "    .dataframe tbody tr th:only-of-type {\n",
              "        vertical-align: middle;\n",
              "    }\n",
              "\n",
              "    .dataframe tbody tr th {\n",
              "        vertical-align: top;\n",
              "    }\n",
              "\n",
              "    .dataframe thead th {\n",
              "        text-align: right;\n",
              "    }\n",
              "</style>\n",
              "<table border=\"1\" class=\"dataframe\">\n",
              "  <thead>\n",
              "    <tr style=\"text-align: right;\">\n",
              "      <th></th>\n",
              "      <th>SMILES</th>\n",
              "      <th>NAME</th>\n",
              "    </tr>\n",
              "  </thead>\n",
              "  <tbody>\n",
              "    <tr>\n",
              "      <th>0</th>\n",
              "      <td>Cc1cc(-n2ncc(=O)[nH]c2=O)ccc1C(=O)c1ccccc1Cl</td>\n",
              "      <td>CHEMBL6329</td>\n",
              "    </tr>\n",
              "    <tr>\n",
              "      <th>1</th>\n",
              "      <td>Cc1cc(-n2ncc(=O)[nH]c2=O)ccc1C(=O)c1ccc(C#N)cc1</td>\n",
              "      <td>CHEMBL6328</td>\n",
              "    </tr>\n",
              "    <tr>\n",
              "      <th>2</th>\n",
              "      <td>Cc1cc(-n2ncc(=O)[nH]c2=O)cc(C)c1C(O)c1ccc(Cl)cc1</td>\n",
              "      <td>CHEMBL265667</td>\n",
              "    </tr>\n",
              "    <tr>\n",
              "      <th>3</th>\n",
              "      <td>Cc1ccc(C(=O)c2ccc(-n3ncc(=O)[nH]c3=O)cc2)cc1</td>\n",
              "      <td>CHEMBL6362</td>\n",
              "    </tr>\n",
              "    <tr>\n",
              "      <th>4</th>\n",
              "      <td>Cc1cc(-n2ncc(=O)[nH]c2=O)ccc1C(=O)c1ccc(Cl)cc1</td>\n",
              "      <td>CHEMBL267864</td>\n",
              "    </tr>\n",
              "  </tbody>\n",
              "</table>\n",
              "</div>\n",
              "      <button class=\"colab-df-convert\" onclick=\"convertToInteractive('df-8aa8fcf7-9413-4957-9393-0550e76a85c4')\"\n",
              "              title=\"Convert this dataframe to an interactive table.\"\n",
              "              style=\"display:none;\">\n",
              "        \n",
              "  <svg xmlns=\"http://www.w3.org/2000/svg\" height=\"24px\"viewBox=\"0 0 24 24\"\n",
              "       width=\"24px\">\n",
              "    <path d=\"M0 0h24v24H0V0z\" fill=\"none\"/>\n",
              "    <path d=\"M18.56 5.44l.94 2.06.94-2.06 2.06-.94-2.06-.94-.94-2.06-.94 2.06-2.06.94zm-11 1L8.5 8.5l.94-2.06 2.06-.94-2.06-.94L8.5 2.5l-.94 2.06-2.06.94zm10 10l.94 2.06.94-2.06 2.06-.94-2.06-.94-.94-2.06-.94 2.06-2.06.94z\"/><path d=\"M17.41 7.96l-1.37-1.37c-.4-.4-.92-.59-1.43-.59-.52 0-1.04.2-1.43.59L10.3 9.45l-7.72 7.72c-.78.78-.78 2.05 0 2.83L4 21.41c.39.39.9.59 1.41.59.51 0 1.02-.2 1.41-.59l7.78-7.78 2.81-2.81c.8-.78.8-2.07 0-2.86zM5.41 20L4 18.59l7.72-7.72 1.47 1.35L5.41 20z\"/>\n",
              "  </svg>\n",
              "      </button>\n",
              "      \n",
              "  <style>\n",
              "    .colab-df-container {\n",
              "      display:flex;\n",
              "      flex-wrap:wrap;\n",
              "      gap: 12px;\n",
              "    }\n",
              "\n",
              "    .colab-df-convert {\n",
              "      background-color: #E8F0FE;\n",
              "      border: none;\n",
              "      border-radius: 50%;\n",
              "      cursor: pointer;\n",
              "      display: none;\n",
              "      fill: #1967D2;\n",
              "      height: 32px;\n",
              "      padding: 0 0 0 0;\n",
              "      width: 32px;\n",
              "    }\n",
              "\n",
              "    .colab-df-convert:hover {\n",
              "      background-color: #E2EBFA;\n",
              "      box-shadow: 0px 1px 2px rgba(60, 64, 67, 0.3), 0px 1px 3px 1px rgba(60, 64, 67, 0.15);\n",
              "      fill: #174EA6;\n",
              "    }\n",
              "\n",
              "    [theme=dark] .colab-df-convert {\n",
              "      background-color: #3B4455;\n",
              "      fill: #D2E3FC;\n",
              "    }\n",
              "\n",
              "    [theme=dark] .colab-df-convert:hover {\n",
              "      background-color: #434B5C;\n",
              "      box-shadow: 0px 1px 3px 1px rgba(0, 0, 0, 0.15);\n",
              "      filter: drop-shadow(0px 1px 2px rgba(0, 0, 0, 0.3));\n",
              "      fill: #FFFFFF;\n",
              "    }\n",
              "  </style>\n",
              "\n",
              "      <script>\n",
              "        const buttonEl =\n",
              "          document.querySelector('#df-8aa8fcf7-9413-4957-9393-0550e76a85c4 button.colab-df-convert');\n",
              "        buttonEl.style.display =\n",
              "          google.colab.kernel.accessAllowed ? 'block' : 'none';\n",
              "\n",
              "        async function convertToInteractive(key) {\n",
              "          const element = document.querySelector('#df-8aa8fcf7-9413-4957-9393-0550e76a85c4');\n",
              "          const dataTable =\n",
              "            await google.colab.kernel.invokeFunction('convertToInteractive',\n",
              "                                                     [key], {});\n",
              "          if (!dataTable) return;\n",
              "\n",
              "          const docLinkHtml = 'Like what you see? Visit the ' +\n",
              "            '<a target=\"_blank\" href=https://colab.research.google.com/notebooks/data_table.ipynb>data table notebook</a>'\n",
              "            + ' to learn more about interactive tables.';\n",
              "          element.innerHTML = '';\n",
              "          dataTable['output_type'] = 'display_data';\n",
              "          await google.colab.output.renderOutput(dataTable, element);\n",
              "          const docLink = document.createElement('div');\n",
              "          docLink.innerHTML = docLinkHtml;\n",
              "          element.appendChild(docLink);\n",
              "        }\n",
              "      </script>\n",
              "    </div>\n",
              "  </div>\n",
              "  "
            ]
          },
          "metadata": {},
          "execution_count": 6
        }
      ]
    },
    {
      "cell_type": "markdown",
      "source": [
        "Preprocess Data:\n",
        "\n",
        "1.   Extract SMILES strings from dataset\n",
        "2.   Tokenize SMILES strings into individual chars and create dictionary\n",
        "3.   Map characters to indices\n",
        "4.   Convert SMILES strings into sequences of indices\n",
        "\n"
      ],
      "metadata": {
        "id": "olraRd6FCFq7"
      }
    },
    {
      "cell_type": "code",
      "source": [
        "# Basically what we want to do here if convert each SMILES string in the dataframe into a vector of numbers, where each\n",
        "# number corresponds to the dictionary mapping of the letter.\n",
        "\n",
        "# I am adding a letter that I know in advance is not in the word vocabulary to encode for end-of-phrase. Suspect?!\n",
        "df['SMILES'] = df['SMILES'].astype(str) + 'E'\n",
        "\n",
        "# Get all SMILES Strings (the data we want) into a list format for manipulation.\n",
        "smiles = df['SMILES'].tolist()\n",
        "\n",
        "# To create the vocabulary, we need each unique character seen thus far (list), then make it a set.\n",
        "all_chars = set(''.join(smiles))\n",
        "\n",
        "# List comprehension way of creating a char: index dictionary, sorted by ASCII. Reserve 0.\n",
        "char_to_idx = {char: idx + 1 for idx, char in enumerate(sorted(all_chars))}\n",
        "idx_to_char = {idx: char for char, idx in char_to_idx.items()}\n",
        "\n",
        "# Method to vectorize every smiles string.\n",
        "def smiles_to_indices(smiles_string):\n",
        "    return [char_to_idx[char] for char in smiles_string]\n",
        "\n",
        "# Vectorize all smiles strings from original dataframe.\n",
        "sequences = [smiles_to_indices(smiles_string) for smiles_string in smiles]"
      ],
      "metadata": {
        "id": "tTxseB2ABxsw"
      },
      "execution_count": 7,
      "outputs": []
    },
    {
      "cell_type": "code",
      "source": [
        "# N-padding for label creation. Didn't want size to get too excessive, but can train more later.\n",
        "input_sequences = []\n",
        "for vec in sequences:\n",
        "  count = 0\n",
        "  while(count < len(vec)):\n",
        "    input_sequences.append(vec[:count+1])\n",
        "    count += 1\n",
        "len(input_sequences)"
      ],
      "metadata": {
        "colab": {
          "base_uri": "https://localhost:8080/"
        },
        "id": "0RkPwlPaGF4_",
        "outputId": "47a056a9-6072-4477-ff39-3b952955e524"
      },
      "execution_count": 8,
      "outputs": [
        {
          "output_type": "execute_result",
          "data": {
            "text/plain": [
              "434816"
            ]
          },
          "metadata": {},
          "execution_count": 8
        }
      ]
    },
    {
      "cell_type": "code",
      "source": [
        "# More concise way of writing the previous cell.\n",
        "input_sequences = [vec[:count + 1] for vec in sequences[:5000] for count in range(len(vec))]\n",
        "len(input_sequences)"
      ],
      "metadata": {
        "colab": {
          "base_uri": "https://localhost:8080/"
        },
        "id": "QpimJHuGMPwf",
        "outputId": "eb6df433-1d6c-45d5-a8bd-53a3d3409990"
      },
      "execution_count": 9,
      "outputs": [
        {
          "output_type": "execute_result",
          "data": {
            "text/plain": [
              "183976"
            ]
          },
          "metadata": {},
          "execution_count": 9
        }
      ]
    },
    {
      "cell_type": "code",
      "source": [
        "# Now we need to pad the data so that they are of the same length. We use pad_sequences to pad prior to tokens so that RNN will have \n",
        "# relevant token information before reaching final layer instead of 'forgetting' early info and getting a bunch of 0s instead.\n",
        "max_seq_length = max([len(x) for x in input_sequences])\n",
        "input_seqs = np.array(pad_sequences(input_sequences, maxlen=max_seq_length, padding='pre'))\n",
        "print(max_seq_length)"
      ],
      "metadata": {
        "colab": {
          "base_uri": "https://localhost:8080/"
        },
        "id": "ZOwC4xROMuKO",
        "outputId": "260102e6-a7e5-4f4a-9de7-24ec0d5a498f"
      },
      "execution_count": 10,
      "outputs": [
        {
          "output_type": "stream",
          "name": "stdout",
          "text": [
            "50\n"
          ]
        }
      ]
    },
    {
      "cell_type": "code",
      "source": [
        "# X_values gets every element but last for each input, input_seqs gets last element for each input. This type of syntax works for arrays.\n",
        "# We should also OHE the labels due to the nature of this problem as multi-classification.\n",
        "x_values, labels = input_seqs[:, :-1], input_seqs[:, -1]\n",
        "y_values = tf.keras.utils.to_categorical(labels, num_classes=len(all_chars)+1)"
      ],
      "metadata": {
        "id": "MDZrPpzQQXIa"
      },
      "execution_count": 11,
      "outputs": []
    },
    {
      "cell_type": "code",
      "source": [
        "# Now that we have the data, labels in the preferred format, we are almost ready to create the model. First, however, we must create word embeddings.\n",
        "# This is important because:\n",
        "#   1) Embeddings are more dense, especially compared to sparse OHE vectors.\n",
        "#   2) Embeddings represent similar words similarly and different words differently--they capture relationships.\n",
        "#   3) Embeddings reduce dimensionality, leading to less complexity. \n",
        "# Must figure out a way to use embeddings within the context of a smiles string, not just classic NLP.\n",
        "\n",
        "# I have decided to let the Keras.Embedding layer handle this."
      ],
      "metadata": {
        "id": "buU1ry_GUvNo"
      },
      "execution_count": 60,
      "outputs": []
    },
    {
      "cell_type": "code",
      "source": [
        "# Simple LSTM, room for improvement. Could incorporate bi-directionality.\n",
        "\n",
        "# Keras.embedding documentation: Turns positive integers (indexes) into dense vectors of fixed size.\n",
        "# e.g. [[4], [20]] -> [[0.25, 0.1], [0.6, -0.2]]\n",
        "\n",
        "def lstm_model(vocab_size, padded_length, embedding_dim=128):\n",
        "    model = Sequential()\n",
        "    model.add(Embedding(vocab_size, embedding_dim, input_length=padded_length))\n",
        "    model.add(LSTM(128, return_sequences=True))\n",
        "    model.add(Dropout(0.2))\n",
        "    model.add(LSTM(128))\n",
        "    model.add(Dropout(0.2))\n",
        "    \n",
        "    # Last layer should output probabilities for each letter in vocabulary.\n",
        "    model.add(Dense(vocab_size, activation='softmax'))\n",
        "    \n",
        "    model.compile(loss='categorical_crossentropy', optimizer='adam', metrics=['accuracy'])\n",
        "    return model"
      ],
      "metadata": {
        "id": "j8ZOf0ldBDOd"
      },
      "execution_count": 12,
      "outputs": []
    },
    {
      "cell_type": "code",
      "source": [
        "# Could certainly train model for longer. This is mostly preliminary.\n",
        "embedding_dim = 128\n",
        "model = lstm_model(len(all_chars) + 1, 49, embedding_dim)\n",
        "history = model.fit(x_values, y_values, epochs=20, batch_size=128)"
      ],
      "metadata": {
        "id": "0X5SyHMVBIZt"
      },
      "execution_count": null,
      "outputs": []
    },
    {
      "cell_type": "code",
      "source": [
        "def preprocess_input(input_str, vocab_dict, max_sequence_length):\n",
        "    # Tokenize the input string into a sequence of integers--analogous to earlier procedure.\n",
        "    input_sequence = [vocab_dict[char] for char in input_str if char in vocab_dict]\n",
        "    \n",
        "    # Pad/truncate the sequence to the maximum sequence length.\n",
        "    if len(input_sequence) < max_sequence_length:\n",
        "        input_sequence = [0] * (max_sequence_length - len(input_sequence)) + input_sequence\n",
        "    else:\n",
        "        input_sequence = input_sequence[:max_sequence_length]\n",
        "    \n",
        "    # Reshape the input sequence for the model.\n",
        "    input_sequence = np.array(input_sequence).reshape(1, max_sequence_length)\n",
        "    \n",
        "    return input_sequence"
      ],
      "metadata": {
        "id": "-CGion32FLkc"
      },
      "execution_count": 71,
      "outputs": []
    },
    {
      "cell_type": "code",
      "source": [
        "# Method for check SMILES String validity. Due to the nature of error messages I have chosen to disable them.\n",
        "def is_valid_smiles(smiles):\n",
        "    RDLogger.DisableLog('rdApp.*')\n",
        "    mol = Chem.MolFromSmiles(smiles)\n",
        "    return mol is not None"
      ],
      "metadata": {
        "id": "nE_LeWtPkzqH"
      },
      "execution_count": 15,
      "outputs": []
    },
    {
      "cell_type": "code",
      "source": [
        "# This method is where I implement a crude version of beam search--computationally very expensive because I am going through\n",
        "# the top two predicted values without accounting for score down the tree, which scales with 2^n, n = branches.\n",
        "# Though the problem right now is not very large, this can easily be fixed down the line taking into account a loss fn.\n",
        "# This is also where the shortest potential strings will be outputted. \n",
        "def generate_smiles(model, initial_input, vocab_dict, inverse_vocab_dict, max_sequence_length, max_output_length=100):\n",
        "    generated_smiles = initial_input\n",
        "    \n",
        "    # Get top 2 options from predictions. Could be a method argument.\n",
        "    beam_width = 2\n",
        "    valid_smiles = []\n",
        "    \n",
        "    # Initialize the queue in which the SMILES strings will reside. \n",
        "    seq_queue = queue.Queue()\n",
        "    seq_queue.put(initial_input)\n",
        "    \n",
        "    stop_loop = False\n",
        "\n",
        "    while not seq_queue.empty():\n",
        "        if stop_loop:\n",
        "          break\n",
        "        \n",
        "        # Take the first SMILES in the queue, process it, and put it in model.\n",
        "        input_sequence = seq_queue.get()\n",
        "        processed_input = preprocess_input(input_sequence, char_to_idx, 50)\n",
        "        output_probabilities = model.predict(processed_input)\n",
        "\n",
        "        # Get the top n possibilites, n = beam width.\n",
        "        top_n = np.argpartition(output_probabilities.flatten(), -beam_width)[-beam_width:]\n",
        "        for predicted_index in top_n:\n",
        "        \n",
        "          # Index -> char.\n",
        "          predicted_char = inverse_vocab_dict[predicted_index]\n",
        "\n",
        "          # Check if the predicted character is end token.\n",
        "          if predicted_char == 'E':\n",
        "            # break from this iteration\n",
        "            break\n",
        "        \n",
        "          # Update input sequence.\n",
        "          new_sequence = input_sequence + predicted_char\n",
        "\n",
        "          # Check if current sequence yields a valid SMILES string. If so, add it to list. Check for length condition.\n",
        "          if is_valid_smiles(new_sequence):\n",
        "            valid_smiles.append(new_sequence)\n",
        "          if len(valid_smiles) >= 5:\n",
        "            stop_loop = True\n",
        "            break\n",
        "          \n",
        "          seq_queue.put(new_sequence)\n",
        "\n",
        "    return valid_smiles"
      ],
      "metadata": {
        "id": "xrrSJWfOCJmH"
      },
      "execution_count": 63,
      "outputs": []
    },
    {
      "cell_type": "code",
      "source": [
        "# Generate top 5 closest SMILES Strings based on user input. \n",
        "initial_input = \"CCc1ccc\"\n",
        "generated_smiles = generate_smiles(model, initial_input, char_to_idx, idx_to_char, 49)\n",
        "\n",
        "print(\"Generated SMILES:\", generated_smiles)"
      ],
      "metadata": {
        "id": "4W8zvMEoCsOB"
      },
      "execution_count": null,
      "outputs": []
    },
    {
      "cell_type": "code",
      "source": [
        "Chem.MolFromSmiles(initial_input)"
      ],
      "metadata": {
        "id": "IiGZgjBYCYus"
      },
      "execution_count": 77,
      "outputs": []
    },
    {
      "cell_type": "code",
      "source": [
        "Chem.MolFromSmiles(generated_smiles[0])"
      ],
      "metadata": {
        "colab": {
          "base_uri": "https://localhost:8080/",
          "height": 167
        },
        "id": "nJxjnwJ9iPlk",
        "outputId": "c498ef71-3d38-4a53-f154-cf9389554940"
      },
      "execution_count": 74,
      "outputs": [
        {
          "output_type": "execute_result",
          "data": {
            "text/plain": [
              "<rdkit.Chem.rdchem.Mol at 0x7fb28f416660>"
            ],
            "image/png": "[encoded data removed]"
          },
          "metadata": {},
          "execution_count": 74
        }
      ]
    },
    {
      "cell_type": "code",
      "source": [
        "Chem.MolFromSmiles(generated_smiles[1])"
      ],
      "metadata": {
        "colab": {
          "base_uri": "https://localhost:8080/",
          "height": 167
        },
        "id": "btX3gXgnCTUH",
        "outputId": "08022841-0702-4e0d-97f2-bfd1eb81024e"
      },
      "execution_count": 75,
      "outputs": [
        {
          "output_type": "execute_result",
          "data": {
            "text/plain": [
              "<rdkit.Chem.rdchem.Mol at 0x7fb28f4169e0>"
            ],
            "image/png": "[encoded data removed]"
          },
          "metadata": {},
          "execution_count": 75
        }
      ]
    },
    {
      "cell_type": "code",
      "source": [
        "Chem.MolFromSmiles(generated_smiles[3])"
      ],
      "metadata": {
        "colab": {
          "base_uri": "https://localhost:8080/",
          "height": 167
        },
        "id": "koIRxa8bCU54",
        "outputId": "7755da6e-801b-4d2f-c2ef-9eedacc899e1"
      },
      "execution_count": 76,
      "outputs": [
        {
          "output_type": "execute_result",
          "data": {
            "text/plain": [
              "<rdkit.Chem.rdchem.Mol at 0x7fb28f416e40>"
            ],
            "image/png": "[encoded data removed]"
          },
          "metadata": {},
          "execution_count": 76
        }
      ]
    }
  ],
  "metadata": {
    "kernelspec": {
      "display_name": "Python [conda env:ml-challenge1]",
      "language": "python",
      "name": "conda-env-ml-challenge1-py"
    },
    "language_info": {
      "codemirror_mode": {
        "name": "ipython",
        "version": 3
      },
      "file_extension": ".py",
      "mimetype": "text/x-python",
      "name": "python",
      "nbconvert_exporter": "python",
      "pygments_lexer": "ipython3",
      "version": "3.10.6"
    },
    "vscode": {
      "interpreter": {
        "hash": "0e6076fde79b41c773a80cfec3984ec580f68deb33618e842d3901157dbf0ff6"
      }
    },
    "colab": {
      "provenance": [],
      "gpuType": "T4"
    },
    "accelerator": "GPU",
    "gpuClass": "standard"
  },
  "nbformat": 4,
  "nbformat_minor": 0
}